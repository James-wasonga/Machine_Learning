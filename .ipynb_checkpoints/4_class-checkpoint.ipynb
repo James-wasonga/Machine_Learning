{
 "cells": [
  {
   "cell_type": "code",
   "execution_count": 1,
   "id": "5cf4dac2-cbc3-406f-97da-098074534b7b",
   "metadata": {},
   "outputs": [
    {
     "name": "stdout",
     "output_type": "stream",
     "text": [
      "('James', 23)\n"
     ]
    }
   ],
   "source": [
    "mytuple = (\"James\",23)\n",
    "print(mytuple)"
   ]
  },
  {
   "cell_type": "code",
   "execution_count": 7,
   "id": "56273810-9230-4dcc-8c53-9e134904f989",
   "metadata": {},
   "outputs": [
    {
     "name": "stdout",
     "output_type": "stream",
     "text": [
      "James\n"
     ]
    }
   ],
   "source": [
    "fellowship = {\n",
    "    'habbot_1':'James',\n",
    "    'habbot_2':'Erick'\n",
    "    }\n",
    "x = fellowship['habbot_1']\n",
    "print(x)"
   ]
  },
  {
   "cell_type": "code",
   "execution_count": 18,
   "id": "74e228d7-07f8-408b-91ea-c7536b58421d",
   "metadata": {},
   "outputs": [
    {
     "name": "stdout",
     "output_type": "stream",
     "text": [
      "habbot_1 James\n",
      "habbot_2 Erick\n"
     ]
    }
   ],
   "source": [
    "for x,y in fellowship.items():\n",
    "    print(x,y)"
   ]
  },
  {
   "cell_type": "code",
   "execution_count": null,
   "id": "89a94a26-7fac-4b0d-888a-c647d46e9493",
   "metadata": {},
   "outputs": [],
   "source": []
  },
  {
   "cell_type": "code",
   "execution_count": 96,
   "id": "65d659f9-0885-44bf-81eb-5b112ba5c7c7",
   "metadata": {},
   "outputs": [
    {
     "name": "stdout",
     "output_type": "stream",
     "text": [
      "[[98 18 22 81 22]\n",
      " [68 60 72 33 65]\n",
      " [35 28  6 86 27]\n",
      " [63 88  2 88 29]\n",
      " [80 85 89 34 62]\n",
      " [63 98 16  7 27]\n",
      " [56  1 86 71  1]\n",
      " [34 45 73 42 18]\n",
      " [49 85 86 48 33]\n",
      " [40 85 76 81 31]]\n",
      "{1: array([98, 18, 22, 81, 22]), 2: array([68, 60, 72, 33, 65]), 3: array([35, 28,  6, 86, 27]), 4: array([63, 88,  2, 88, 29]), 5: array([80, 85, 89, 34, 62]), 6: array([63, 98, 16,  7, 27]), 7: array([56,  1, 86, 71,  1]), 8: array([34, 45, 73, 42, 18]), 9: array([49, 85, 86, 48, 33]), 10: array([40, 85, 76, 81, 31])}\n",
      "Course 1: [98 68 35 63 80 63 56 34 49 40]\n",
      "Course 2: [18 60 28 88 85 98  1 45 85 85]\n",
      "Course 3: [22 72  6  2 89 16 86 73 86 76]\n",
      "Course 4: [81 33 86 88 34  7 71 42 48 81]\n",
      "Course 5: [22 65 27 29 62 27  1 18 33 31]\n"
     ]
    }
   ],
   "source": [
    "import numpy as np\n",
    "import random\n",
    "\n",
    "student_data = np.random.choice(np.arange(1,100), size=50).reshape(10,5)\n",
    "print(student_data)\n",
    "\n",
    "student = [1,2,3,4,5,6,7,8,9,10]\n",
    "studentdict = {}\n",
    "course = [1,2,3,4,5]\n",
    "marks = {}\n",
    "\n",
    "for x in range(len(student_data)):\n",
    "    studentdict.update({student[x]: student_data[x]})  \n",
    "print(studentdict)\n",
    "\n",
    "for i in range(student_data.shape[1]):\n",
    "    print(f\"Course {courses[i]}: {student_data[:, i]}\")\n"
   ]
  },
  {
   "cell_type": "code",
   "execution_count": 66,
   "id": "d3c2ee98-d482-43c8-a39c-7ea8252285cf",
   "metadata": {},
   "outputs": [
    {
     "name": "stdout",
     "output_type": "stream",
     "text": [
      "James\n",
      "ML (CSS203)\n",
      "AI (CSS204)\n"
     ]
    }
   ],
   "source": [
    "#create two classes, student and course\n",
    "# every course as an name,code\n",
    "#every student has a name, regno\n",
    "#then every student has several courses\n",
    "\n",
    "class Courses:\n",
    "    def __init__(self, name, code):\n",
    "        self.name = name\n",
    "        self.code = code\n",
    "\n",
    "class Students:\n",
    "    def __init__(self, name, regno):\n",
    "        self.name = name\n",
    "        self.regno = regno\n",
    "        self.courses = []\n",
    "\n",
    "    def register(self, course):\n",
    "        self.courses.append(course)\n",
    "\n",
    "\n",
    "course1 = Courses(\"ML\",\"CSS203\")\n",
    "course2 = Courses(\"AI\",\"CSS204\")\n",
    "\n",
    "student1 = Students(\"James\",\"css/00057/022\")\n",
    "student1.register(course1)\n",
    "student1.register(course2)\n",
    "\n",
    "print(student1.name)\n",
    "for course in student1.courses:\n",
    "    print(f\"{course.name} ({course.code})\")\n",
    "\n",
    "\n",
    "\n"
   ]
  },
  {
   "cell_type": "code",
   "execution_count": 70,
   "id": "0199c73e-e057-478a-b01c-27514d193fb0",
   "metadata": {},
   "outputs": [
    {
     "name": "stdout",
     "output_type": "stream",
     "text": [
      "Student Data (Rows):\n",
      "[[12 92 50 32 70]\n",
      " [99 38 97 92 53]\n",
      " [39 25 78 37 46]\n",
      " [21 93 70 69 12]\n",
      " [82 10 44 54 52]\n",
      " [91 16 64 62 73]\n",
      " [99  3 93  9 20]\n",
      " [69 10 83 18  1]\n",
      " [ 6 21 55  5 37]\n",
      " [77 95 89 50 60]]\n",
      "\n",
      "Student Dictionary:\n",
      "Student 1: [12 92 50 32 70]\n",
      "Student 2: [99 38 97 92 53]\n",
      "Student 3: [39 25 78 37 46]\n",
      "Student 4: [21 93 70 69 12]\n",
      "Student 5: [82 10 44 54 52]\n",
      "Student 6: [91 16 64 62 73]\n",
      "Student 7: [99  3 93  9 20]\n",
      "Student 8: [69 10 83 18  1]\n",
      "Student 9: [ 6 21 55  5 37]\n",
      "Student 10: [77 95 89 50 60]\n",
      "\n",
      "Marks for each course (Columns):\n",
      "Course 1: [12 99 39 21 82 91 99 69  6 77]\n",
      "Course 2: [92 38 25 93 10 16  3 10 21 95]\n",
      "Course 3: [50 97 78 70 44 64 93 83 55 89]\n",
      "Course 4: [32 92 37 69 54 62  9 18  5 50]\n",
      "Course 5: [70 53 46 12 52 73 20  1 37 60]\n"
     ]
    }
   ],
   "source": [
    "import numpy as np\n",
    "\n",
    "# Generating random student data\n",
    "student_data = np.random.choice(np.arange(1, 100), size=50).reshape(10, 5)\n",
    "\n",
    "# Defining student IDs and course IDs\n",
    "students = [1, 2, 3, 4, 5, 6, 7, 8, 9, 10]\n",
    "courses = [1, 2, 3, 4, 5]\n",
    "\n",
    "# Creating a dictionary to map student IDs to their respective data\n",
    "studentdict = {}\n",
    "for x in range(len(student_data)):\n",
    "    studentdict.update({students[x]: student_data[x]})\n",
    "\n",
    "# Printing the student data matrix\n",
    "print(\"Student Data (Rows):\")\n",
    "print(student_data)\n",
    "\n",
    "# Printing the dictionary that maps each student to their marks\n",
    "print(\"\\nStudent Dictionary:\")\n",
    "for student_id, marks in studentdict.items():\n",
    "    print(f\"Student {student_id}: {marks}\")\n",
    "\n",
    "# Iterating over columns (courses) and printing marks for each course\n",
    "print(\"\\nMarks for each course (Columns):\")\n",
    "for i in range(student_data.shape[1]):  # Iterate over each column\n",
    "    print(f\"Course {courses[i]}: {student_data[:, i]}\")\n"
   ]
  },
  {
   "cell_type": "code",
   "execution_count": null,
   "id": "e98eb739-ff84-48e8-a733-41852ad8f9b9",
   "metadata": {},
   "outputs": [],
   "source": []
  },
  {
   "cell_type": "code",
   "execution_count": null,
   "id": "18cccf9c-aae3-4679-b384-97c4238fce2c",
   "metadata": {},
   "outputs": [],
   "source": []
  }
 ],
 "metadata": {
  "kernelspec": {
   "display_name": "Python 3 (ipykernel)",
   "language": "python",
   "name": "python3"
  },
  "language_info": {
   "codemirror_mode": {
    "name": "ipython",
    "version": 3
   },
   "file_extension": ".py",
   "mimetype": "text/x-python",
   "name": "python",
   "nbconvert_exporter": "python",
   "pygments_lexer": "ipython3",
   "version": "3.12.4"
  }
 },
 "nbformat": 4,
 "nbformat_minor": 5
}
