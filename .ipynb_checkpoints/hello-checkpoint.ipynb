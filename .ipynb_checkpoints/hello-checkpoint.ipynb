{
 "cells": [
  {
   "cell_type": "code",
   "execution_count": 64,
   "id": "0110e8bf-a4c3-4cd0-a77c-a8f95a63995b",
   "metadata": {},
   "outputs": [],
   "source": [
    "x = \"hello\""
   ]
  },
  {
   "cell_type": "code",
   "execution_count": 65,
   "id": "ec0d7de9-e652-4931-bd3d-d1468c5d03bf",
   "metadata": {
    "scrolled": true
   },
   "outputs": [],
   "source": [
    "def Greet():\n",
    "    print(x + \" Everyone here\")\n"
   ]
  },
  {
   "cell_type": "code",
   "execution_count": 66,
   "id": "1b7adce7-64f9-4f47-96c5-aab42dc4ee2d",
   "metadata": {},
   "outputs": [
    {
     "name": "stdout",
     "output_type": "stream",
     "text": [
      "hello Everyone here\n"
     ]
    }
   ],
   "source": [
    "Greet()"
   ]
  },
  {
   "cell_type": "code",
   "execution_count": null,
   "id": "03c7becb-fb8d-4ef8-96ae-f9cfb2ac3a73",
   "metadata": {},
   "outputs": [],
   "source": []
  }
 ],
 "metadata": {
  "kernelspec": {
   "display_name": "Python 3 (ipykernel)",
   "language": "python",
   "name": "python3"
  },
  "language_info": {
   "codemirror_mode": {
    "name": "ipython",
    "version": 3
   },
   "file_extension": ".py",
   "mimetype": "text/x-python",
   "name": "python",
   "nbconvert_exporter": "python",
   "pygments_lexer": "ipython3",
   "version": "3.12.4"
  }
 },
 "nbformat": 4,
 "nbformat_minor": 5
}
