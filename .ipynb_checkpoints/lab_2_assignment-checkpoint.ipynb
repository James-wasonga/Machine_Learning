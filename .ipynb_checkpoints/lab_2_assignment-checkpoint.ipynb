{
 "cells": [
  {
   "cell_type": "code",
   "execution_count": null,
   "id": "b304c727-ffe0-4d32-9f72-7505e2edc0e7",
   "metadata": {},
   "outputs": [],
   "source": [
    "# CCS/00057/022 - JAMES WASONGA\n",
    "# CCS/03003/022 - FELIX AWERE\n",
    "\n",
    "# ASSIGNMENT2 SUBMISSION "
   ]
  },
  {
   "cell_type": "code",
   "execution_count": 127,
   "id": "2513d7bb-66cd-4dcf-bcea-6b03145ec5f4",
   "metadata": {},
   "outputs": [
    {
     "name": "stdout",
     "output_type": "stream",
     "text": [
      "1 [60 95 43 93 67]\n",
      "2 [41 90 61 34 42]\n",
      "3 [39 25 95 96 79]\n",
      "4 [92 89 25 49 56]\n",
      "5 [45 94 94 62 43]\n",
      "6 [41 36 82 52 90]\n",
      "7 [20 71 30 22 84]\n",
      "8 [36 30 60 55 69]\n",
      "9 [30 69 54 74 87]\n",
      "10 [88 96 80 55 96]\n",
      "The graduation uint : [[60 67 93 95]\n",
      " [41 42 61 90]\n",
      " [39 79 95 96]\n",
      " [49 56 89 92]\n",
      " [45 62 94 94]\n",
      " [41 52 82 90]\n",
      " [22 30 71 84]\n",
      " [36 55 60 69]\n",
      " [54 69 74 87]\n",
      " [80 88 96 96]]\n",
      "[315 234 309 286 295 265 207 220 284 360]\n",
      " Student 1 has best [60 67 93 95] unit with total of 315\n",
      " Student 2 has best [41 42 61 90] unit with total of 234\n",
      " Student 3 has best [39 79 95 96] unit with total of 309\n",
      " Student 4 has best [49 56 89 92] unit with total of 286\n",
      " Student 5 has best [45 62 94 94] unit with total of 295\n",
      " Student 6 has best [41 52 82 90] unit with total of 265\n",
      " Student 7 has best [22 30 71 84] unit with total of 207\n",
      " Student 8 has best [36 55 60 69] unit with total of 220\n",
      " Student 9 has best [54 69 74 87] unit with total of 284\n",
      " Student 10 has best [80 88 96 96] unit with total of 360\n"
     ]
    }
   ],
   "source": [
    "\n",
    "\n",
    "\n",
    "#total marks for each students\n",
    "#mean marks for each subject \n",
    "#computing graduation unit for each student best four\n",
    "\n",
    "import numpy as np\n",
    "import random\n",
    "\n",
    "student_data = np.random.choice(np.arange(20,100),size = 50).reshape(10,5)\n",
    "student_ids = [1,2,3,4,5,6,7,8,9,10]\n",
    "for i in range(len(student_data)):\n",
    "    print(student_ids[i], student_data[i])\n",
    "\n",
    "#total marks for each students\n",
    "total_marks = np.sum(student_data, axis=1)\n",
    "# print(total_marks)\n",
    "\n",
    "#mean marks for students\n",
    "mean_marks = np.mean(student_data, axis=0)\n",
    "# print(mean_marks)\n",
    "\n",
    "#computing graduation unit for each student best four\n",
    "graduation_unit =  np.sort(student_data, axis=1)[:, -4:]\n",
    "print(f\"The graduation uint : {graduation_unit}\")\n",
    "\n",
    "sum_of_units = np.sum(graduation_unit, axis =1)\n",
    "print(sum_of_units)\n",
    "\n",
    "for i, s, w in zip(student_ids, graduation_unit, sum_of_units):\n",
    "    print(f\" Student {i} has best {s} unit with total of {w}\")\n",
    "\n",
    "    \n"
   ]
  },
  {
   "cell_type": "code",
   "execution_count": null,
   "id": "8831e679-3f5c-4ce1-a338-b706743354e7",
   "metadata": {},
   "outputs": [],
   "source": []
  },
  {
   "cell_type": "code",
   "execution_count": null,
   "id": "26b2518c-cb54-472b-a759-7efd895b29f6",
   "metadata": {},
   "outputs": [],
   "source": []
  }
 ],
 "metadata": {
  "kernelspec": {
   "display_name": "Python 3 (ipykernel)",
   "language": "python",
   "name": "python3"
  },
  "language_info": {
   "codemirror_mode": {
    "name": "ipython",
    "version": 3
   },
   "file_extension": ".py",
   "mimetype": "text/x-python",
   "name": "python",
   "nbconvert_exporter": "python",
   "pygments_lexer": "ipython3",
   "version": "3.12.4"
  }
 },
 "nbformat": 4,
 "nbformat_minor": 5
}
