{
 "cells": [
  {
   "cell_type": "code",
   "execution_count": null,
   "id": "66a40eb8-d8e6-4bd8-b827-592df6e7c8d0",
   "metadata": {},
   "outputs": [],
   "source": [
    "# determine if a function is divisible by two and return a remainder"
   ]
  },
  {
   "cell_type": "code",
   "execution_count": 13,
   "id": "7839da15-3437-46c3-b80e-3ec6d92beed8",
   "metadata": {},
   "outputs": [
    {
     "data": {
      "text/plain": [
       "1"
      ]
     },
     "execution_count": 13,
     "metadata": {},
     "output_type": "execute_result"
    }
   ],
   "source": [
    "def check(num):\n",
    "  return num % 2\n",
    "check(3)\n"
   ]
  },
  {
   "cell_type": "code",
   "execution_count": 36,
   "id": "d1368f51-ffc3-4b27-8c96-af582a99ca27",
   "metadata": {},
   "outputs": [
    {
     "data": {
      "text/plain": [
       "1"
      ]
     },
     "execution_count": 36,
     "metadata": {},
     "output_type": "execute_result"
    }
   ],
   "source": [
    "def check(num):\n",
    "    if num % 2 == 0:\n",
    "      return 'true'\n",
    "    else:\n",
    "     return num % 2\n",
    "check(3)\n"
   ]
  },
  {
   "cell_type": "code",
   "execution_count": null,
   "id": "abe9ae83-7bc4-40c8-b0d0-bc854ebbee48",
   "metadata": {},
   "outputs": [],
   "source": [
    "# create a function that takes a list of numbers and go over the list and find the smallest number"
   ]
  },
  {
   "cell_type": "code",
   "execution_count": 32,
   "id": "3b48bb24-e14a-4299-a45a-864ee28135ea",
   "metadata": {},
   "outputs": [
    {
     "name": "stdout",
     "output_type": "stream",
     "text": [
      "1\n"
     ]
    }
   ],
   "source": [
    "\n",
    "def smallest(x):\n",
    "    print(min(x))\n",
    "smallest([1,2,4,5])"
   ]
  },
  {
   "cell_type": "code",
   "execution_count": 80,
   "id": "433b5e63-75e7-4db7-9e9e-97b799430f5c",
   "metadata": {},
   "outputs": [
    {
     "name": "stdout",
     "output_type": "stream",
     "text": [
      "1\n",
      "3\n",
      "6\n",
      "10\n",
      "15\n",
      "21\n"
     ]
    },
    {
     "data": {
      "text/plain": [
       "21"
      ]
     },
     "execution_count": 80,
     "metadata": {},
     "output_type": "execute_result"
    }
   ],
   "source": [
    "def recursion(x):\n",
    "    if x > 0:\n",
    "        recur = x + recursion(x-1)\n",
    "        print(recur)\n",
    "    else:\n",
    "       recur = 0\n",
    "    return recur\n",
    "recursion(6)"
   ]
  },
  {
   "cell_type": "code",
   "execution_count": 108,
   "id": "8a82377a-033d-4a72-a60d-dd84a2ad89f7",
   "metadata": {},
   "outputs": [
    {
     "data": {
      "text/plain": [
       "10"
      ]
     },
     "execution_count": 108,
     "metadata": {},
     "output_type": "execute_result"
    }
   ],
   "source": [
    "# if the number is less than target keep on recurring \n",
    "\n",
    "def mynumber(x):\n",
    "    if x < 10 :\n",
    "        recur = x + mynumber(x+1) % 2\n",
    "        print(recur)\n",
    "    else:\n",
    "        recur = 10\n",
    "        return recur\n",
    "mynumber(20)\n"
   ]
  },
  {
   "cell_type": "code",
   "execution_count": 147,
   "id": "975e1d4d-d798-45bc-9680-d226d145eb22",
   "metadata": {},
   "outputs": [
    {
     "name": "stdout",
     "output_type": "stream",
     "text": [
      "1\n"
     ]
    }
   ],
   "source": [
    "# initiates a class rocket\n",
    "\n",
    "class Rocket:\n",
    "    def __init__(self,x,y):\n",
    "        self.x = x\n",
    "        self.y = y\n",
    "r1 = Rocket(1,2)\n",
    "print(r1.x)"
   ]
  },
  {
   "cell_type": "code",
   "execution_count": null,
   "id": "bd9a8636-3243-400a-a0ba-300e14085fc9",
   "metadata": {},
   "outputs": [],
   "source": [
    "class Rocket:\n",
    "    def __init__(self,x=0,y=0):\n",
    "        self.x = x\n",
    "        self.y = y\n",
    "    def move_rocket(self, x_increment=0, y_increment=1):\n",
    "        self.x += x_increment\n",
    "        self.y = y_increment\n",
    "\n",
    "    class Shuttle(Rocket):\n",
    "        def __init__(self,x, y, fully_completed):\n",
    "            Rocket.__init__(self,x,y)\n",
    "\n",
    "            self.fully_coompleted = fully_completed\n",
    "            \n",
    "        \n",
    "            "
   ]
  },
  {
   "cell_type": "code",
   "execution_count": null,
   "id": "0fb4bfcf-224f-4ebe-b8ff-da3cfe6cdac2",
   "metadata": {},
   "outputs": [],
   "source": []
  },
  {
   "cell_type": "code",
   "execution_count": null,
   "id": "ebd5105c-bfe6-4657-8350-21d908201fec",
   "metadata": {},
   "outputs": [],
   "source": []
  },
  {
   "cell_type": "code",
   "execution_count": null,
   "id": "b752d311-7939-4c98-a972-22fdc88ad174",
   "metadata": {},
   "outputs": [],
   "source": []
  },
  {
   "cell_type": "code",
   "execution_count": null,
   "id": "d10f1777-cbe1-4e4e-9816-d7f91b9eff12",
   "metadata": {},
   "outputs": [],
   "source": []
  }
 ],
 "metadata": {
  "kernelspec": {
   "display_name": "Python 3 (ipykernel)",
   "language": "python",
   "name": "python3"
  },
  "language_info": {
   "codemirror_mode": {
    "name": "ipython",
    "version": 3
   },
   "file_extension": ".py",
   "mimetype": "text/x-python",
   "name": "python",
   "nbconvert_exporter": "python",
   "pygments_lexer": "ipython3",
   "version": "3.12.4"
  }
 },
 "nbformat": 4,
 "nbformat_minor": 5
}
