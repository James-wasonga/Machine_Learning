{
 "cells": [
  {
   "cell_type": "code",
   "execution_count": 1,
   "id": "5cf4dac2-cbc3-406f-97da-098074534b7b",
   "metadata": {},
   "outputs": [
    {
     "name": "stdout",
     "output_type": "stream",
     "text": [
      "('James', 23)\n"
     ]
    }
   ],
   "source": [
    "mytuple = (\"James\",23)\n",
    "print(mytuple)"
   ]
  },
  {
   "cell_type": "code",
   "execution_count": 7,
   "id": "56273810-9230-4dcc-8c53-9e134904f989",
   "metadata": {},
   "outputs": [
    {
     "name": "stdout",
     "output_type": "stream",
     "text": [
      "James\n"
     ]
    }
   ],
   "source": [
    "fellowship = {\n",
    "    'habbot_1':'James',\n",
    "    'habbot_2':'Erick'\n",
    "    }\n",
    "x = fellowship['habbot_1']\n",
    "print(x)"
   ]
  },
  {
   "cell_type": "code",
   "execution_count": 18,
   "id": "74e228d7-07f8-408b-91ea-c7536b58421d",
   "metadata": {},
   "outputs": [
    {
     "name": "stdout",
     "output_type": "stream",
     "text": [
      "habbot_1 James\n",
      "habbot_2 Erick\n"
     ]
    }
   ],
   "source": [
    "for x,y in fellowship.items():\n",
    "    print(x,y)"
   ]
  },
  {
   "cell_type": "code",
   "execution_count": null,
   "id": "ffd4a756-373d-43f2-80b7-7b105e71eecd",
   "metadata": {},
   "outputs": [],
   "source": []
  },
  {
   "cell_type": "code",
   "execution_count": 20,
   "id": "65d659f9-0885-44bf-81eb-5b112ba5c7c7",
   "metadata": {},
   "outputs": [
    {
     "name": "stdout",
     "output_type": "stream",
     "text": [
      "[[ 8  9 13 32 50]\n",
      " [ 5  1 96 68  8]\n",
      " [89 46 32 71 75]\n",
      " [70 50 27 24 37]\n",
      " [93 62 48 17 94]\n",
      " [81 93 86 60 70]\n",
      " [97 99 95 80  6]\n",
      " [29 76 42 14 44]\n",
      " [80 90 85 63 93]\n",
      " [87 59 58 74 68]]\n",
      "{1: array([ 8,  9, 13, 32, 50]), 2: array([ 5,  1, 96, 68,  8]), 3: array([89, 46, 32, 71, 75]), 4: array([70, 50, 27, 24, 37]), 5: array([93, 62, 48, 17, 94]), 6: array([81, 93, 86, 60, 70]), 7: array([97, 99, 95, 80,  6]), 8: array([29, 76, 42, 14, 44]), 9: array([80, 90, 85, 63, 93]), 10: array([87, 59, 58, 74, 68])}\n",
      "Course 1: [ 8  5 89 70 93 81 97 29 80 87]\n",
      "Course 2: [ 9  1 46 50 62 93 99 76 90 59]\n",
      "Course 3: [13 96 32 27 48 86 95 42 85 58]\n",
      "Course 4: [32 68 71 24 17 60 80 14 63 74]\n",
      "Course 5: [50  8 75 37 94 70  6 44 93 68]\n"
     ]
    }
   ],
   "source": [
    "import numpy as np\n",
    "import random\n",
    "\n",
    "student_data = np.random.choice(np.arange(1,100), size=50).reshape(10,5)\n",
    "print(student_data)\n",
    "\n",
    "student = [1,2,3,4,5,6,7,8,9,10]\n",
    "studentdict = {}\n",
    "courses = [1,2,3,4,5]\n",
    "marks = {}\n",
    "\n",
    "for x in range(len(student_data)):\n",
    "    studentdict.update({student[x]: student_data[x]})  \n",
    "print(studentdict)\n",
    "\n",
    "for i in range(student_data.shape[1]):\n",
    "    print(f\"Course {courses[i]}: {student_data[:, i]}\")\n"
   ]
  },
  {
   "cell_type": "code",
   "execution_count": 22,
   "id": "d3c2ee98-d482-43c8-a39c-7ea8252285cf",
   "metadata": {},
   "outputs": [
    {
     "name": "stdout",
     "output_type": "stream",
     "text": [
      "James\n",
      "The Course is ML of unit code  (CSS203)\n",
      "The Course is AI of unit code  (CSS204)\n"
     ]
    }
   ],
   "source": [
    "#create two classes, student and course\n",
    "# every course as an name,code\n",
    "#every student has a name, regno\n",
    "#then every student has several courses\n",
    "\n",
    "\n",
    "class Courses:\n",
    "    def __init__(self, name, code):\n",
    "        self.name = name\n",
    "        self.code = code\n",
    "\n",
    "class Students:\n",
    "    def __init__(self, name, regno):\n",
    "        self.name = name\n",
    "        self.regno = regno\n",
    "        self.courses = []\n",
    "\n",
    "    def register(self, course):\n",
    "        self.courses.append(course)\n",
    "\n",
    "\n",
    "course1 = Courses(\"ML\",\"CSS203\")\n",
    "course2 = Courses(\"AI\",\"CSS204\")\n",
    "\n",
    "student1 = Students(\"James\",\"css/00057/022\")\n",
    "student1.register(course1)\n",
    "student1.register(course2)\n",
    "\n",
    "\n",
    "print(student1.name)\n",
    "for course in student1.courses:\n",
    "    print(f\"The Course is {course.name} of unit code  ({course.code})\")\n",
    "\n",
    "\n"
   ]
  },
  {
   "cell_type": "code",
   "execution_count": null,
   "id": "0199c73e-e057-478a-b01c-27514d193fb0",
   "metadata": {},
   "outputs": [],
   "source": []
  },
  {
   "cell_type": "code",
   "execution_count": 32,
   "id": "072bf2fe-3122-4d91-9260-6f965a7c5669",
   "metadata": {},
   "outputs": [
    {
     "name": "stdout",
     "output_type": "stream",
     "text": [
      "[0 1 2 3 4 5]\n"
     ]
    }
   ],
   "source": [
    "\n",
    "\n",
    "vec1 = np.arange(6)\n",
    "print(vec1)"
   ]
  },
  {
   "cell_type": "code",
   "execution_count": 46,
   "id": "e98eb739-ff84-48e8-a733-41852ad8f9b9",
   "metadata": {},
   "outputs": [
    {
     "ename": "AttributeError",
     "evalue": "'matrix' object has no attribute 'tranpose'",
     "output_type": "error",
     "traceback": [
      "\u001b[1;31m---------------------------------------------------------------------------\u001b[0m",
      "\u001b[1;31mAttributeError\u001b[0m                            Traceback (most recent call last)",
      "Cell \u001b[1;32mIn[46], line 2\u001b[0m\n\u001b[0;32m      1\u001b[0m vec1 \u001b[38;5;241m=\u001b[39m np\u001b[38;5;241m.\u001b[39marange(\u001b[38;5;241m6\u001b[39m)\n\u001b[1;32m----> 2\u001b[0m res \u001b[38;5;241m=\u001b[39m matrix(vec1)\u001b[38;5;241m.\u001b[39mtranpose()\n\u001b[0;32m      3\u001b[0m \u001b[38;5;28mprint\u001b[39m(res)\n",
      "\u001b[1;31mAttributeError\u001b[0m: 'matrix' object has no attribute 'tranpose'"
     ]
    }
   ],
   "source": [
    "from numpy import matrix\n",
    "\n",
    "vec1 = np.arange(6)\n",
    "res = matrix(vec1).tranpose()\n",
    "print(res)"
   ]
  },
  {
   "cell_type": "code",
   "execution_count": null,
   "id": "18cccf9c-aae3-4679-b384-97c4238fce2c",
   "metadata": {},
   "outputs": [],
   "source": []
  }
 ],
 "metadata": {
  "kernelspec": {
   "display_name": "Python 3 (ipykernel)",
   "language": "python",
   "name": "python3"
  },
  "language_info": {
   "codemirror_mode": {
    "name": "ipython",
    "version": 3
   },
   "file_extension": ".py",
   "mimetype": "text/x-python",
   "name": "python",
   "nbconvert_exporter": "python",
   "pygments_lexer": "ipython3",
   "version": "3.12.4"
  }
 },
 "nbformat": 4,
 "nbformat_minor": 5
}
