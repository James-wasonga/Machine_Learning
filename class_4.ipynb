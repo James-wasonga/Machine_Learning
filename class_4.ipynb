{
 "cells": [
  {
   "cell_type": "code",
   "execution_count": 282,
   "id": "3110ef9f-0a3d-4ff6-b9bc-21b28db980c1",
   "metadata": {},
   "outputs": [],
   "source": [
    "# CCS/00057/022 - James Wasonga\n",
    "# CCS/03003/022 - Felix Awere\n",
    "\n",
    "# Class Assignment"
   ]
  },
  {
   "cell_type": "code",
   "execution_count": 7,
   "id": "d5226376-4b74-4004-9050-610ec8584901",
   "metadata": {},
   "outputs": [
    {
     "name": "stdout",
     "output_type": "stream",
     "text": [
      "[0 1 2 3 4 5]\n",
      "[ 0  2  4  6  8 10]\n",
      "[ 0  4  8 12 16 20]\n"
     ]
    }
   ],
   "source": [
    "import numpy as np\n",
    "\n",
    "v1 = np.arange(0,6)\n",
    "print(v1)\n",
    "\n",
    "v2 = [4,5,6,7]\n",
    "mul = v1 * 2\n",
    "print(mul)\n",
    "\n",
    "add = mul*2\n",
    "print(add)\n"
   ]
  },
  {
   "cell_type": "code",
   "execution_count": 9,
   "id": "bfd1e8c1-5fab-454c-a94c-ca768b973e98",
   "metadata": {},
   "outputs": [],
   "source": [
    "# add2 = v1 + v2\n",
    "# print(add2)"
   ]
  },
  {
   "cell_type": "code",
   "execution_count": 11,
   "id": "e3add518-95e9-4e59-b3f4-3e029d1ebf8e",
   "metadata": {},
   "outputs": [
    {
     "name": "stdout",
     "output_type": "stream",
     "text": [
      "[[0 1 2]\n",
      " [3 4 5]]\n"
     ]
    }
   ],
   "source": [
    "mat = v1.reshape(2,3)\n",
    "print(mat)"
   ]
  },
  {
   "cell_type": "markdown",
   "id": "a34902f8-7352-4753-a6bc-8f812d53de3a",
   "metadata": {},
   "source": [
    "###### vec1 = np.arange(3)\n",
    "print(vec1)\n",
    "vec2 = np.arange(3)\n",
    "# print(mat * vec1)\n",
    "print(vec1 * mat)\n",
    "# print(mat * vec2)\n"
   ]
  },
  {
   "cell_type": "code",
   "execution_count": 13,
   "id": "e1c946d5-4d0f-4a77-810e-3dbeb3d7f5fa",
   "metadata": {},
   "outputs": [
    {
     "name": "stdout",
     "output_type": "stream",
     "text": [
      "[[0 1 2]\n",
      " [3 4 5]]\n",
      "[[0 1 2]\n",
      " [3 4 5]\n",
      " [6 7 8]]\n",
      "[[0 1 2 3]\n",
      " [4 5 6 7]]\n"
     ]
    }
   ],
   "source": [
    "# creating three different matrices and maltiplying them \n",
    "\n",
    "v1 = np.arange(0,6)\n",
    "mat1 = v1.reshape(2,3)\n",
    "\n",
    "v2 = np.arange(0,9)\n",
    "mat2 = v2.reshape(3,3)\n",
    "\n",
    "v3 = np.arange(0,8)\n",
    "mat3 = v3.reshape(2,4)\n",
    "\n",
    "print(mat1)\n",
    "print(mat2)\n",
    "print(mat3)\n",
    "\n",
    "# print(mat1 *mat2)"
   ]
  },
  {
   "cell_type": "code",
   "execution_count": 15,
   "id": "c19a5a70-c96c-4264-8cf7-b317c504b9dc",
   "metadata": {},
   "outputs": [
    {
     "name": "stdout",
     "output_type": "stream",
     "text": [
      "[[0]\n",
      " [1]\n",
      " [2]\n",
      " [3]\n",
      " [4]\n",
      " [5]]\n",
      "(6, 1)\n"
     ]
    }
   ],
   "source": [
    "from numpy import matrix\n",
    "\n",
    "# colvec = v1.transpose()\n",
    "# print(colvec)\n",
    "\n",
    "v3 = matrix(v1).transpose()\n",
    "print(v3)\n",
    "\n",
    "s = v3.shape\n",
    "print(s)\n"
   ]
  },
  {
   "cell_type": "code",
   "execution_count": 17,
   "id": "c5ca5356-8e7e-4727-b458-b60ec3690e95",
   "metadata": {},
   "outputs": [
    {
     "name": "stdout",
     "output_type": "stream",
     "text": [
      "[[0]\n",
      " [1]\n",
      " [2]]\n",
      "(3, 1)\n"
     ]
    }
   ],
   "source": [
    "#converting the vector to matrix\n",
    "\n",
    "hlp = np.arange(3)\n",
    "\n",
    "v3 = matrix(hlp).transpose()\n",
    "print(v3)\n",
    "s = v3.shape\n",
    "print(s)\n",
    "\n",
    "# hlp.reshape(3,1)\n",
    "# print(hlp)"
   ]
  },
  {
   "cell_type": "code",
   "execution_count": 25,
   "id": "b6f55a54-8fe8-4398-9400-35544dd381c6",
   "metadata": {},
   "outputs": [
    {
     "name": "stdout",
     "output_type": "stream",
     "text": [
      "[[ 0  1  4]\n",
      " [ 0  4 10]]\n"
     ]
    }
   ],
   "source": [
    "# multiplying 3*3 matrix and 3*1\n",
    "print(mat1 * hlp)"
   ]
  },
  {
   "cell_type": "code",
   "execution_count": 27,
   "id": "6c75407a-96f3-4342-a297-66fc92bf13f6",
   "metadata": {},
   "outputs": [
    {
     "ename": "ValueError",
     "evalue": "shapes (2,1) and (2,3) not aligned: 1 (dim 1) != 2 (dim 0)",
     "output_type": "error",
     "traceback": [
      "\u001b[1;31m---------------------------------------------------------------------------\u001b[0m",
      "\u001b[1;31mValueError\u001b[0m                                Traceback (most recent call last)",
      "Cell \u001b[1;32mIn[27], line 8\u001b[0m\n\u001b[0;32m      5\u001b[0m vec2 \u001b[38;5;241m=\u001b[39m np\u001b[38;5;241m.\u001b[39marange(\u001b[38;5;241m2\u001b[39m)\n\u001b[0;32m      6\u001b[0m res2 \u001b[38;5;241m=\u001b[39m matrix(vec2)\u001b[38;5;241m.\u001b[39mtranspose()\n\u001b[1;32m----> 8\u001b[0m \u001b[38;5;28mprint\u001b[39m(res2 \u001b[38;5;241m*\u001b[39m res1)\n",
      "File \u001b[1;32mC:\\ProgramData\\anaconda3\\Lib\\site-packages\\numpy\\matrixlib\\defmatrix.py:219\u001b[0m, in \u001b[0;36mmatrix.__mul__\u001b[1;34m(self, other)\u001b[0m\n\u001b[0;32m    216\u001b[0m \u001b[38;5;28;01mdef\u001b[39;00m \u001b[38;5;21m__mul__\u001b[39m(\u001b[38;5;28mself\u001b[39m, other):\n\u001b[0;32m    217\u001b[0m     \u001b[38;5;28;01mif\u001b[39;00m \u001b[38;5;28misinstance\u001b[39m(other, (N\u001b[38;5;241m.\u001b[39mndarray, \u001b[38;5;28mlist\u001b[39m, \u001b[38;5;28mtuple\u001b[39m)) :\n\u001b[0;32m    218\u001b[0m         \u001b[38;5;66;03m# This promotes 1-D vectors to row vectors\u001b[39;00m\n\u001b[1;32m--> 219\u001b[0m         \u001b[38;5;28;01mreturn\u001b[39;00m N\u001b[38;5;241m.\u001b[39mdot(\u001b[38;5;28mself\u001b[39m, asmatrix(other))\n\u001b[0;32m    220\u001b[0m     \u001b[38;5;28;01mif\u001b[39;00m isscalar(other) \u001b[38;5;129;01mor\u001b[39;00m \u001b[38;5;129;01mnot\u001b[39;00m \u001b[38;5;28mhasattr\u001b[39m(other, \u001b[38;5;124m'\u001b[39m\u001b[38;5;124m__rmul__\u001b[39m\u001b[38;5;124m'\u001b[39m) :\n\u001b[0;32m    221\u001b[0m         \u001b[38;5;28;01mreturn\u001b[39;00m N\u001b[38;5;241m.\u001b[39mdot(\u001b[38;5;28mself\u001b[39m, other)\n",
      "\u001b[1;31mValueError\u001b[0m: shapes (2,1) and (2,3) not aligned: 1 (dim 1) != 2 (dim 0)"
     ]
    }
   ],
   "source": [
    "vec1 = np.arange(6)\n",
    "res1 = vec1.reshape(2,3)\n",
    "# print(res1)\n",
    "\n",
    "vec2 = np.arange(2)\n",
    "res2 = matrix(vec2).transpose()\n",
    "\n",
    "print(res2 * res1)"
   ]
  },
  {
   "cell_type": "code",
   "execution_count": 181,
   "id": "4e0e2c41-b450-41af-bff9-1ced29941040",
   "metadata": {},
   "outputs": [
    {
     "ename": "ValueError",
     "evalue": "shapes (2,3) and (2,3) not aligned: 3 (dim 1) != 2 (dim 0)",
     "output_type": "error",
     "traceback": [
      "\u001b[1;31m---------------------------------------------------------------------------\u001b[0m",
      "\u001b[1;31mValueError\u001b[0m                                Traceback (most recent call last)",
      "Cell \u001b[1;32mIn[181], line 5\u001b[0m\n\u001b[0;32m      1\u001b[0m \u001b[38;5;66;03m# difference between np.dot and direct multiplication of the vector\u001b[39;00m\n\u001b[0;32m      2\u001b[0m \n\u001b[0;32m      3\u001b[0m \u001b[38;5;66;03m# print(res1 *res1)\u001b[39;00m\n\u001b[1;32m----> 5\u001b[0m np\u001b[38;5;241m.\u001b[39mdot(res1 ,res1)\n",
      "\u001b[1;31mValueError\u001b[0m: shapes (2,3) and (2,3) not aligned: 3 (dim 1) != 2 (dim 0)"
     ]
    }
   ],
   "source": [
    "# difference between np.dot and direct multiplication of the vector\n",
    "\n",
    "# print(res1 *res1)\n",
    "\n",
    "np.dot(res1 ,res1)\n",
    "\n"
   ]
  },
  {
   "cell_type": "code",
   "execution_count": 16,
   "id": "e3755746-fb93-442b-add0-8a3bbec7f7b6",
   "metadata": {},
   "outputs": [
    {
     "name": "stdout",
     "output_type": "stream",
     "text": [
      "[[ 2  3]\n",
      " [ 6 11]]\n"
     ]
    }
   ],
   "source": [
    "# creating a square matrix to show wheher the dot product works\n",
    "\n",
    "vec = np.arange(4)\n",
    "val = vec.reshape(2,2)\n",
    "# print(val)\n",
    "res = np.dot(val ,val)\n",
    "print(res)"
   ]
  },
  {
   "cell_type": "code",
   "execution_count": 227,
   "id": "ef212731-009b-4ebb-99cb-ae11523216dd",
   "metadata": {},
   "outputs": [
    {
     "name": "stdout",
     "output_type": "stream",
     "text": [
      "[0 1 2]\n",
      "5\n"
     ]
    }
   ],
   "source": [
    "# dot multiplication of vectors\n",
    "\n",
    "vec = np.arange(3)\n",
    "# val = vec.reshape(2,3)\n",
    "print(vec)\n",
    "\n",
    "res = np.dot(vec,vec)\n",
    "print(res)"
   ]
  },
  {
   "cell_type": "code",
   "execution_count": 239,
   "id": "0d77eaac-e598-4213-a0fc-678594d1d591",
   "metadata": {},
   "outputs": [
    {
     "name": "stdout",
     "output_type": "stream",
     "text": [
      "[[0 1 2]\n",
      " [3 4 5]]\n",
      "[0 1 2 3 4 5]\n"
     ]
    },
    {
     "data": {
      "text/plain": [
       "array([0, 3, 1, 4, 2, 5])"
      ]
     },
     "execution_count": 239,
     "metadata": {},
     "output_type": "execute_result"
    }
   ],
   "source": [
    "vec = np.arange(6)\n",
    "mat1 = vec.reshape(2,3)\n",
    "print(mat1)\n",
    "\n",
    "print(mat1.ravel()) # converting the reshaped matrix back to the normal\n",
    "mat1.transpose().ravel() # it works the same as flatten\n"
   ]
  },
  {
   "cell_type": "code",
   "execution_count": 20,
   "id": "87d63738-8b39-4ad0-adcc-2c76fd695524",
   "metadata": {},
   "outputs": [
    {
     "name": "stdout",
     "output_type": "stream",
     "text": [
      "[[1 2]\n",
      " [3 4]]\n"
     ]
    },
    {
     "data": {
      "text/plain": [
       "array([[1, 2, 1, 2],\n",
       "       [3, 4, 3, 4]])"
      ]
     },
     "execution_count": 20,
     "metadata": {},
     "output_type": "execute_result"
    }
   ],
   "source": [
    "vec = np.arange(1,5)\n",
    "val = vec.reshape(2,2)\n",
    "print(val)\n",
    "\n",
    "# np.repeat(val,2)\n",
    "# np.tile(val,2)\n",
    "\n",
    "np.concatenate((val,val), axis=1)"
   ]
  },
  {
   "cell_type": "code",
   "execution_count": null,
   "id": "830369ea-7914-4afd-93a4-02dd16a260cf",
   "metadata": {},
   "outputs": [],
   "source": []
  },
  {
   "cell_type": "code",
   "execution_count": null,
   "id": "280f56c8-fad1-46e0-badf-5b2b06e8578c",
   "metadata": {},
   "outputs": [],
   "source": []
  }
 ],
 "metadata": {
  "kernelspec": {
   "display_name": "Python 3 (ipykernel)",
   "language": "python",
   "name": "python3"
  },
  "language_info": {
   "codemirror_mode": {
    "name": "ipython",
    "version": 3
   },
   "file_extension": ".py",
   "mimetype": "text/x-python",
   "name": "python",
   "nbconvert_exporter": "python",
   "pygments_lexer": "ipython3",
   "version": "3.12.4"
  }
 },
 "nbformat": 4,
 "nbformat_minor": 5
}
