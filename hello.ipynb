{
 "cells": [
  {
   "cell_type": "code",
   "execution_count": 72,
   "id": "0110e8bf-a4c3-4cd0-a77c-a8f95a63995b",
   "metadata": {},
   "outputs": [],
   "source": [
    "x = \"hello\""
   ]
  },
  {
   "cell_type": "code",
   "execution_count": 73,
   "id": "ec0d7de9-e652-4931-bd3d-d1468c5d03bf",
   "metadata": {
    "scrolled": true
   },
   "outputs": [],
   "source": [
    "def Greet():\n",
    "    print(x + \" Everyone here\")\n"
   ]
  },
  {
   "cell_type": "code",
   "execution_count": 74,
   "id": "1b7adce7-64f9-4f47-96c5-aab42dc4ee2d",
   "metadata": {},
   "outputs": [
    {
     "name": "stdout",
     "output_type": "stream",
     "text": [
      "hello Everyone here\n"
     ]
    }
   ],
   "source": [
    "Greet()"
   ]
  },
  {
   "cell_type": "code",
   "execution_count": 75,
   "id": "03c7becb-fb8d-4ef8-96ae-f9cfb2ac3a73",
   "metadata": {},
   "outputs": [
    {
     "name": "stdout",
     "output_type": "stream",
     "text": [
      "['James is 21 years old.', 'Jack is 23 years old.', 'Erick is 20 years old.', 'Felix is 24 years old.']\n"
     ]
    }
   ],
   "source": [
    "def calculate_ages(names, years_of_birth):\n",
    "    #define current year as a constant\n",
    "    CURRENT_YEAR = 2024\n",
    "    ages = []\n",
    "    \n",
    "    #loop through the two arrays simulataneously\n",
    "    for name, year_of_birth in zip(names, years_of_birth):\n",
    "        age = CURRENT_YEAR - year_of_birth\n",
    "        ages.append(f\"{name} is {age} years old.\")\n",
    "        \n",
    "    return ages\n",
    "    \n",
    "#examle array for names and birth years\n",
    "names = [\"James\",\"Jack\", \"Erick\", \"Felix\"]\n",
    "years_of_birth = [2003, 2001, 2004, 2000]\n",
    "    \n",
    "#calling the function and printing the result \n",
    "\n",
    "age_info = calculate_ages(names, years_of_birth)\n",
    "print(age_info)\n",
    "    "
   ]
  }
 ],
 "metadata": {
  "kernelspec": {
   "display_name": "Python 3 (ipykernel)",
   "language": "python",
   "name": "python3"
  },
  "language_info": {
   "codemirror_mode": {
    "name": "ipython",
    "version": 3
   },
   "file_extension": ".py",
   "mimetype": "text/x-python",
   "name": "python",
   "nbconvert_exporter": "python",
   "pygments_lexer": "ipython3",
   "version": "3.12.4"
  }
 },
 "nbformat": 4,
 "nbformat_minor": 5
}
