{
 "cells": [
  {
   "cell_type": "code",
   "execution_count": null,
   "id": "b304c727-ffe0-4d32-9f72-7505e2edc0e7",
   "metadata": {},
   "outputs": [],
   "source": [
    "# CCS/00057/022 - JAMES WASONGA\n",
    "# CCS/03003/022 - FELIX AWERE\n",
    "\n",
    "# ASSIGNMENT2 SUBMISSION "
   ]
  },
  {
   "cell_type": "code",
   "execution_count": 15,
   "id": "2513d7bb-66cd-4dcf-bcea-6b03145ec5f4",
   "metadata": {},
   "outputs": [
    {
     "name": "stdout",
     "output_type": "stream",
     "text": [
      "1 [52 47 35 22 71]\n",
      "2 [50 87 31 34 81]\n",
      "3 [26 49 95 77 85]\n",
      "4 [41 36 31 22 25]\n",
      "5 [66 49 30 29 35]\n",
      "6 [48 22 59 55 95]\n",
      "7 [93 25 98 25 92]\n",
      "8 [32 40 91 52 92]\n",
      "9 [52 74 50 41 41]\n",
      "10 [73 58 75 66 52]\n",
      "The graduation uint : [[35 47 52 71]\n",
      " [34 50 81 87]\n",
      " [49 77 85 95]\n",
      " [25 31 36 41]\n",
      " [30 35 49 66]\n",
      " [48 55 59 95]\n",
      " [25 92 93 98]\n",
      " [40 52 91 92]\n",
      " [41 50 52 74]\n",
      " [58 66 73 75]]\n",
      "[205 252 306 133 180 257 308 275 217 272]\n",
      " Student 1 has best [35 47 52 71] unit with total of 205\n",
      " Student 2 has best [34 50 81 87] unit with total of 252\n",
      " Student 3 has best [49 77 85 95] unit with total of 306\n",
      " Student 4 has best [25 31 36 41] unit with total of 133\n",
      " Student 5 has best [30 35 49 66] unit with total of 180\n",
      " Student 6 has best [48 55 59 95] unit with total of 257\n",
      " Student 7 has best [25 92 93 98] unit with total of 308\n",
      " Student 8 has best [40 52 91 92] unit with total of 275\n",
      " Student 9 has best [41 50 52 74] unit with total of 217\n",
      " Student 10 has best [58 66 73 75] unit with total of 272\n"
     ]
    }
   ],
   "source": [
    "\n",
    "\n",
    "\n",
    "#total marks for each students\n",
    "#mean marks for each subject \n",
    "#computing graduation unit for each student best four\n",
    "\n",
    "import numpy as np\n",
    "import random\n",
    "\n",
    "student_data = np.random.choice(np.arange(20,100),size = 50).reshape(10,5)\n",
    "student_ids = [1,2,3,4,5,6,7,8,9,10]\n",
    "for i in range(len(student_data)):\n",
    "    print(student_ids[i], student_data[i])\n",
    "\n",
    "#total marks for each students\n",
    "total_marks = np.sum(student_data, axis=1)\n",
    "# print(total_marks)\n",
    "\n",
    "#mean marks for students\n",
    "mean_marks = np.mean(student_data, axis=0)\n",
    "# print(mean_marks)\n",
    "\n",
    "#computing graduation unit for each student best four\n",
    "graduation_unit =  np.sort(student_data, axis=1)[:, -4:]\n",
    "print(f\"The graduation uint : {graduation_unit}\")\n",
    "\n",
    "sum_of_units = np.sum(graduation_unit, axis =1)\n",
    "print(sum_of_units)\n",
    "\n",
    "for i, s, w in zip(student_ids, graduation_unit, sum_of_units):\n",
    "    print(f\" Student {i} has best {s} unit with total of {w}\")\n",
    "\n",
    "    \n"
   ]
  },
  {
   "cell_type": "code",
   "execution_count": null,
   "id": "8831e679-3f5c-4ce1-a338-b706743354e7",
   "metadata": {},
   "outputs": [],
   "source": []
  },
  {
   "cell_type": "code",
   "execution_count": null,
   "id": "26b2518c-cb54-472b-a759-7efd895b29f6",
   "metadata": {},
   "outputs": [],
   "source": []
  }
 ],
 "metadata": {
  "kernelspec": {
   "display_name": "Python 3 (ipykernel)",
   "language": "python",
   "name": "python3"
  },
  "language_info": {
   "codemirror_mode": {
    "name": "ipython",
    "version": 3
   },
   "file_extension": ".py",
   "mimetype": "text/x-python",
   "name": "python",
   "nbconvert_exporter": "python",
   "pygments_lexer": "ipython3",
   "version": "3.12.4"
  }
 },
 "nbformat": 4,
 "nbformat_minor": 5
}
