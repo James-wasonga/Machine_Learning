{
 "cells": [
  {
   "cell_type": "code",
   "execution_count": null,
   "id": "2addd701-48f5-4d87-b50f-5ddddcc40705",
   "metadata": {},
   "outputs": [],
   "source": [
    "# CSS/00057/022 - JAMES WASONGA\n",
    "# CSS/03003/022 - FELIX AWERE\n",
    "\n",
    "# ASSIGNMENT3 SUBMISSION "
   ]
  },
  {
   "cell_type": "code",
   "execution_count": null,
   "id": "e7a84202-40e3-4907-8fb4-7bbdcc34958c",
   "metadata": {},
   "outputs": [],
   "source": []
  },
  {
   "cell_type": "code",
   "execution_count": 1,
   "id": "cadb1104-99bd-4e18-8932-958339f59236",
   "metadata": {},
   "outputs": [
    {
     "name": "stdout",
     "output_type": "stream",
     "text": [
      "[[78 80 88 96 95]\n",
      " [87 38  9 41 74]\n",
      " [42 62 98 44 14]\n",
      " [86 52 45 96 72]\n",
      " [35 33 13  3 30]\n",
      " [ 8 78  4 65 45]\n",
      " [89 44 55 38 49]\n",
      " [15 73 19 36 32]\n",
      " [ 8 60 71 81 82]\n",
      " [55 62 84  8 92]]\n",
      "{1: array([78, 80, 88, 96, 95]), 2: array([87, 38,  9, 41, 74]), 3: array([42, 62, 98, 44, 14]), 4: array([86, 52, 45, 96, 72]), 5: array([35, 33, 13,  3, 30]), 6: array([ 8, 78,  4, 65, 45]), 7: array([89, 44, 55, 38, 49]), 8: array([15, 73, 19, 36, 32]), 9: array([ 8, 60, 71, 81, 82]), 10: array([55, 62, 84,  8, 92])}\n",
      "Course 1: [78 87 42 86 35  8 89 15  8 55]\n",
      "Course 2: [80 38 62 52 33 78 44 73 60 62]\n",
      "Course 3: [88  9 98 45 13  4 55 19 71 84]\n",
      "Course 4: [96 41 44 96  3 65 38 36 81  8]\n",
      "Course 5: [95 74 14 72 30 45 49 32 82 92]\n"
     ]
    }
   ],
   "source": [
    "import numpy as np\n",
    "import random\n",
    "\n",
    "student_data = np.random.choice(np.arange(1,100), size=50).reshape(10,5)\n",
    "print(student_data)\n",
    "\n",
    "student = [1,2,3,4,5,6,7,8,9,10]\n",
    "studentdict = {}\n",
    "courses = [1,2,3,4,5]\n",
    "marks = {}\n",
    "\n",
    "for x in range(len(student_data)):\n",
    "    studentdict.update({student[x]: student_data[x]})  \n",
    "print(studentdict)\n",
    "\n",
    "for i in range(student_data.shape[1]):\n",
    "    print(f\"Course {courses[i]}: {student_data[:, i]}\")"
   ]
  },
  {
   "cell_type": "code",
   "execution_count": null,
   "id": "f533130f-5a98-481c-9e13-e776a55c3096",
   "metadata": {},
   "outputs": [],
   "source": []
  },
  {
   "cell_type": "code",
   "execution_count": null,
   "id": "b450d7e1-0585-4d23-ac75-593c39289a12",
   "metadata": {},
   "outputs": [],
   "source": []
  },
  {
   "cell_type": "code",
   "execution_count": 3,
   "id": "d2c675a7-baa2-41ce-ac07-6c36ab9f020c",
   "metadata": {},
   "outputs": [
    {
     "name": "stdout",
     "output_type": "stream",
     "text": [
      "James\n",
      "The Course is ML of unit code  (CSS203)\n",
      "The Course is AI of unit code  (CSS204)\n"
     ]
    }
   ],
   "source": [
    "#create two classes, student and course\n",
    "# every course as an name,code\n",
    "#every student has a name, regno\n",
    "#then every student has several courses\n",
    "\n",
    "\n",
    "class Courses:\n",
    "    def __init__(self, name, code):\n",
    "        self.name = name\n",
    "        self.code = code\n",
    "\n",
    "class Students:\n",
    "    def __init__(self, name, regno):\n",
    "        self.name = name\n",
    "        self.regno = regno\n",
    "        self.courses = []\n",
    "\n",
    "    def register(self, course):\n",
    "        self.courses.append(course)\n",
    "\n",
    "\n",
    "course1 = Courses(\"ML\",\"CSS203\")\n",
    "course2 = Courses(\"AI\",\"CSS204\")\n",
    "\n",
    "student1 = Students(\"James\",\"css/00057/022\")\n",
    "student1.register(course1)\n",
    "student1.register(course2)\n",
    "\n",
    "\n",
    "print(student1.name)\n",
    "for course in student1.courses:\n",
    "    print(f\"The Course is {course.name} of unit code  ({course.code})\")\n",
    "\n",
    "\n"
   ]
  },
  {
   "cell_type": "code",
   "execution_count": null,
   "id": "e62b7fee-3853-4f2c-bc98-6f10253f7bf2",
   "metadata": {},
   "outputs": [],
   "source": []
  }
 ],
 "metadata": {
  "kernelspec": {
   "display_name": "Python 3 (ipykernel)",
   "language": "python",
   "name": "python3"
  },
  "language_info": {
   "codemirror_mode": {
    "name": "ipython",
    "version": 3
   },
   "file_extension": ".py",
   "mimetype": "text/x-python",
   "name": "python",
   "nbconvert_exporter": "python",
   "pygments_lexer": "ipython3",
   "version": "3.12.4"
  }
 },
 "nbformat": 4,
 "nbformat_minor": 5
}
